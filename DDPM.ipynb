{
 "cells": [
  {
   "cell_type": "code",
   "execution_count": null,
   "id": "244f2563",
   "metadata": {},
   "outputs": [
    {
     "name": "stdout",
     "output_type": "stream",
     "text": [
      "Using device: cuda\n",
      "Found 29843 images in C:/Users/hucu/Desktop/DeepLearningProject3/dataset/CatDataset/cats/Data\n",
      "Loaded images tensor with shape: torch.Size([29843, 3, 64, 64])\n"
     ]
    }
   ],
   "source": [
    "import os\n",
    "import math\n",
    "import torch\n",
    "import torch.nn as nn\n",
    "import torch.nn.functional as F\n",
    "from torch.utils.data import DataLoader, TensorDataset\n",
    "import torchvision.utils as vutils\n",
    "from tqdm import tqdm\n",
    "import matplotlib.pyplot as plt\n",
    "from glob import glob\n",
    "from PIL import Image\n",
    "from torchvision import transforms\n",
    "import datetime\n",
    "from pathlib import Path\n",
    "\n",
    "IMAGE_SIZE = 64\n",
    "BATCH_SIZE = 8\n",
    "root_dir = \"C:/Users/hucu/Desktop/DeepLearningProject3/dataset/CatDataset/cats/Data\"\n",
    "exts = (\"jpg\", \"png\", \"jpeg\")\n",
    "\n",
    "device = torch.device(\"cuda\" if torch.cuda.is_available() else \"cpu\")\n",
    "print(f\"Using device: {device}\")\n",
    "\n",
    "transform = transforms.Compose([\n",
    "    transforms.Resize(IMAGE_SIZE),\n",
    "    transforms.CenterCrop(IMAGE_SIZE),\n",
    "    transforms.RandomHorizontalFlip(),\n",
    "    transforms.ToTensor(),\n",
    "    transforms.Normalize((0.5,)*3, (0.5,)*3),\n",
    "])\n",
    "\n",
    "paths = []\n",
    "for ext in exts:\n",
    "    paths.extend(glob(os.path.join(root_dir, f\"*.{ext}\")))\n",
    "print(f\"Found {len(paths)} images in {root_dir}\")\n",
    "\n",
    "images = []\n",
    "for p in paths:\n",
    "    img = Image.open(p).convert(\"RGB\")\n",
    "    images.append(transform(img))\n",
    "images = torch.stack(images).to(device)\n",
    "print(f\"Loaded images tensor with shape: {images.shape}\")"
   ]
  },
  {
   "cell_type": "markdown",
   "id": "f9f868cc",
   "metadata": {},
   "source": [
    "# Whole model was based on some papers. "
   ]
  },
  {
   "cell_type": "code",
   "execution_count": null,
   "id": "06ab3282",
   "metadata": {},
   "outputs": [
    {
     "name": "stdout",
     "output_type": "stream",
     "text": [
      "Model has 13,315,587 trainable parameters\n",
      "Starting enhanced DDPM training...\n",
      "Created training directory: ddpm_run_20250608_033804\n"
     ]
    },
    {
     "name": "stderr",
     "output_type": "stream",
     "text": [
      "Epoch 1/50: 100%|██████████| 3731/3731 [03:34<00:00, 17.41it/s, loss=0.0081]\n"
     ]
    },
    {
     "name": "stdout",
     "output_type": "stream",
     "text": [
      "Epoch 1, Avg Loss: 0.0627\n"
     ]
    },
    {
     "name": "stderr",
     "output_type": "stream",
     "text": [
      "Sampling: 100%|██████████| 400/400 [00:08<00:00, 46.00it/s]\n"
     ]
    },
    {
     "name": "stdout",
     "output_type": "stream",
     "text": [
      "Saved samples to ddpm_run_20250608_033804\\samples\\samples_epoch_001.png\n"
     ]
    },
    {
     "name": "stderr",
     "output_type": "stream",
     "text": [
      "Epoch 2/50: 100%|██████████| 3731/3731 [02:35<00:00, 23.95it/s, loss=0.0181]\n"
     ]
    },
    {
     "name": "stdout",
     "output_type": "stream",
     "text": [
      "Epoch 2, Avg Loss: 0.0457\n"
     ]
    },
    {
     "name": "stderr",
     "output_type": "stream",
     "text": [
      "Sampling: 100%|██████████| 400/400 [00:08<00:00, 45.71it/s]\n"
     ]
    },
    {
     "name": "stdout",
     "output_type": "stream",
     "text": [
      "Saved samples to ddpm_run_20250608_033804\\samples\\samples_epoch_002.png\n"
     ]
    },
    {
     "name": "stderr",
     "output_type": "stream",
     "text": [
      "Epoch 3/50: 100%|██████████| 3731/3731 [02:34<00:00, 24.13it/s, loss=0.0866]\n"
     ]
    },
    {
     "name": "stdout",
     "output_type": "stream",
     "text": [
      "Epoch 3, Avg Loss: 0.0436\n"
     ]
    },
    {
     "name": "stderr",
     "output_type": "stream",
     "text": [
      "Sampling: 100%|██████████| 400/400 [00:08<00:00, 45.82it/s]\n"
     ]
    },
    {
     "name": "stdout",
     "output_type": "stream",
     "text": [
      "Saved samples to ddpm_run_20250608_033804\\samples\\samples_epoch_003.png\n"
     ]
    },
    {
     "name": "stderr",
     "output_type": "stream",
     "text": [
      "Epoch 4/50: 100%|██████████| 3731/3731 [02:34<00:00, 24.12it/s, loss=0.0139]\n"
     ]
    },
    {
     "name": "stdout",
     "output_type": "stream",
     "text": [
      "Epoch 4, Avg Loss: 0.0419\n"
     ]
    },
    {
     "name": "stderr",
     "output_type": "stream",
     "text": [
      "Sampling: 100%|██████████| 400/400 [00:08<00:00, 45.95it/s]\n"
     ]
    },
    {
     "name": "stdout",
     "output_type": "stream",
     "text": [
      "Saved samples to ddpm_run_20250608_033804\\samples\\samples_epoch_004.png\n"
     ]
    },
    {
     "name": "stderr",
     "output_type": "stream",
     "text": [
      "Epoch 5/50: 100%|██████████| 3731/3731 [02:34<00:00, 24.13it/s, loss=0.0222]\n"
     ]
    },
    {
     "name": "stdout",
     "output_type": "stream",
     "text": [
      "Epoch 5, Avg Loss: 0.0419\n"
     ]
    },
    {
     "name": "stderr",
     "output_type": "stream",
     "text": [
      "Sampling: 100%|██████████| 400/400 [00:08<00:00, 45.95it/s]\n"
     ]
    },
    {
     "name": "stdout",
     "output_type": "stream",
     "text": [
      "Saved samples to ddpm_run_20250608_033804\\samples\\samples_epoch_005.png\n"
     ]
    },
    {
     "name": "stderr",
     "output_type": "stream",
     "text": [
      "Epoch 6/50: 100%|██████████| 3731/3731 [02:34<00:00, 24.10it/s, loss=0.1052]\n"
     ]
    },
    {
     "name": "stdout",
     "output_type": "stream",
     "text": [
      "Epoch 6, Avg Loss: 0.0406\n"
     ]
    },
    {
     "name": "stderr",
     "output_type": "stream",
     "text": [
      "Sampling: 100%|██████████| 400/400 [00:08<00:00, 45.94it/s]\n"
     ]
    },
    {
     "name": "stdout",
     "output_type": "stream",
     "text": [
      "Saved samples to ddpm_run_20250608_033804\\samples\\samples_epoch_006.png\n"
     ]
    },
    {
     "name": "stderr",
     "output_type": "stream",
     "text": [
      "Epoch 7/50: 100%|██████████| 3731/3731 [02:34<00:00, 24.21it/s, loss=0.0173]\n"
     ]
    },
    {
     "name": "stdout",
     "output_type": "stream",
     "text": [
      "Epoch 7, Avg Loss: 0.0412\n"
     ]
    },
    {
     "name": "stderr",
     "output_type": "stream",
     "text": [
      "Sampling: 100%|██████████| 400/400 [00:08<00:00, 45.78it/s]\n"
     ]
    },
    {
     "name": "stdout",
     "output_type": "stream",
     "text": [
      "Saved samples to ddpm_run_20250608_033804\\samples\\samples_epoch_007.png\n"
     ]
    },
    {
     "name": "stderr",
     "output_type": "stream",
     "text": [
      "Epoch 8/50: 100%|██████████| 3731/3731 [02:34<00:00, 24.08it/s, loss=0.0111]\n"
     ]
    },
    {
     "name": "stdout",
     "output_type": "stream",
     "text": [
      "Epoch 8, Avg Loss: 0.0404\n"
     ]
    },
    {
     "name": "stderr",
     "output_type": "stream",
     "text": [
      "Sampling: 100%|██████████| 400/400 [00:08<00:00, 45.91it/s]\n"
     ]
    },
    {
     "name": "stdout",
     "output_type": "stream",
     "text": [
      "Saved samples to ddpm_run_20250608_033804\\samples\\samples_epoch_008.png\n"
     ]
    },
    {
     "name": "stderr",
     "output_type": "stream",
     "text": [
      "Epoch 9/50: 100%|██████████| 3731/3731 [02:33<00:00, 24.25it/s, loss=0.0192]\n"
     ]
    },
    {
     "name": "stdout",
     "output_type": "stream",
     "text": [
      "Epoch 9, Avg Loss: 0.0397\n"
     ]
    },
    {
     "name": "stderr",
     "output_type": "stream",
     "text": [
      "Sampling: 100%|██████████| 400/400 [00:08<00:00, 46.10it/s]\n"
     ]
    },
    {
     "name": "stdout",
     "output_type": "stream",
     "text": [
      "Saved samples to ddpm_run_20250608_033804\\samples\\samples_epoch_009.png\n"
     ]
    },
    {
     "name": "stderr",
     "output_type": "stream",
     "text": [
      "Epoch 10/50: 100%|██████████| 3731/3731 [02:35<00:00, 24.01it/s, loss=0.0176]\n"
     ]
    },
    {
     "name": "stdout",
     "output_type": "stream",
     "text": [
      "Epoch 10, Avg Loss: 0.0389\n"
     ]
    },
    {
     "name": "stderr",
     "output_type": "stream",
     "text": [
      "Sampling: 100%|██████████| 400/400 [00:08<00:00, 45.83it/s]\n"
     ]
    },
    {
     "name": "stdout",
     "output_type": "stream",
     "text": [
      "Saved samples to ddpm_run_20250608_033804\\samples\\samples_epoch_010.png\n",
      "FID computed: 163.02\n",
      " → FID @10: 163.02\n",
      "Model saved to ddpm_run_20250608_033804\\models\\model_epoch_010.pth\n"
     ]
    },
    {
     "name": "stderr",
     "output_type": "stream",
     "text": [
      "Epoch 11/50: 100%|██████████| 3731/3731 [02:33<00:00, 24.23it/s, loss=0.0297]\n"
     ]
    },
    {
     "name": "stdout",
     "output_type": "stream",
     "text": [
      "Epoch 11, Avg Loss: 0.0391\n"
     ]
    },
    {
     "name": "stderr",
     "output_type": "stream",
     "text": [
      "Sampling: 100%|██████████| 400/400 [00:08<00:00, 45.80it/s]\n"
     ]
    },
    {
     "name": "stdout",
     "output_type": "stream",
     "text": [
      "Saved samples to ddpm_run_20250608_033804\\samples\\samples_epoch_011.png\n"
     ]
    },
    {
     "name": "stderr",
     "output_type": "stream",
     "text": [
      "Epoch 12/50: 100%|██████████| 3731/3731 [02:34<00:00, 24.21it/s, loss=0.0098]\n"
     ]
    },
    {
     "name": "stdout",
     "output_type": "stream",
     "text": [
      "Epoch 12, Avg Loss: 0.0401\n"
     ]
    },
    {
     "name": "stderr",
     "output_type": "stream",
     "text": [
      "Sampling: 100%|██████████| 400/400 [00:08<00:00, 45.64it/s]\n"
     ]
    },
    {
     "name": "stdout",
     "output_type": "stream",
     "text": [
      "Saved samples to ddpm_run_20250608_033804\\samples\\samples_epoch_012.png\n"
     ]
    },
    {
     "name": "stderr",
     "output_type": "stream",
     "text": [
      "Epoch 13/50: 100%|██████████| 3731/3731 [02:35<00:00, 24.02it/s, loss=0.0383]\n"
     ]
    },
    {
     "name": "stdout",
     "output_type": "stream",
     "text": [
      "Epoch 13, Avg Loss: 0.0395\n"
     ]
    },
    {
     "name": "stderr",
     "output_type": "stream",
     "text": [
      "Sampling: 100%|██████████| 400/400 [00:08<00:00, 46.16it/s]\n"
     ]
    },
    {
     "name": "stdout",
     "output_type": "stream",
     "text": [
      "Saved samples to ddpm_run_20250608_033804\\samples\\samples_epoch_013.png\n"
     ]
    },
    {
     "name": "stderr",
     "output_type": "stream",
     "text": [
      "Epoch 14/50: 100%|██████████| 3731/3731 [02:35<00:00, 23.94it/s, loss=0.0099]\n"
     ]
    },
    {
     "name": "stdout",
     "output_type": "stream",
     "text": [
      "Epoch 14, Avg Loss: 0.0393\n"
     ]
    },
    {
     "name": "stderr",
     "output_type": "stream",
     "text": [
      "Sampling: 100%|██████████| 400/400 [00:08<00:00, 45.81it/s]\n"
     ]
    },
    {
     "name": "stdout",
     "output_type": "stream",
     "text": [
      "Saved samples to ddpm_run_20250608_033804\\samples\\samples_epoch_014.png\n"
     ]
    },
    {
     "name": "stderr",
     "output_type": "stream",
     "text": [
      "Epoch 15/50: 100%|██████████| 3731/3731 [02:35<00:00, 23.93it/s, loss=0.0294]\n"
     ]
    },
    {
     "name": "stdout",
     "output_type": "stream",
     "text": [
      "Epoch 15, Avg Loss: 0.0396\n"
     ]
    },
    {
     "name": "stderr",
     "output_type": "stream",
     "text": [
      "Sampling: 100%|██████████| 400/400 [00:08<00:00, 45.64it/s]\n"
     ]
    },
    {
     "name": "stdout",
     "output_type": "stream",
     "text": [
      "Saved samples to ddpm_run_20250608_033804\\samples\\samples_epoch_015.png\n"
     ]
    },
    {
     "name": "stderr",
     "output_type": "stream",
     "text": [
      "Epoch 16/50: 100%|██████████| 3731/3731 [02:35<00:00, 24.04it/s, loss=0.0452]\n"
     ]
    },
    {
     "name": "stdout",
     "output_type": "stream",
     "text": [
      "Epoch 16, Avg Loss: 0.0386\n"
     ]
    },
    {
     "name": "stderr",
     "output_type": "stream",
     "text": [
      "Sampling: 100%|██████████| 400/400 [00:08<00:00, 45.86it/s]\n"
     ]
    },
    {
     "name": "stdout",
     "output_type": "stream",
     "text": [
      "Saved samples to ddpm_run_20250608_033804\\samples\\samples_epoch_016.png\n"
     ]
    },
    {
     "name": "stderr",
     "output_type": "stream",
     "text": [
      "Epoch 17/50: 100%|██████████| 3731/3731 [02:35<00:00, 24.01it/s, loss=0.0166]\n"
     ]
    },
    {
     "name": "stdout",
     "output_type": "stream",
     "text": [
      "Epoch 17, Avg Loss: 0.0395\n"
     ]
    },
    {
     "name": "stderr",
     "output_type": "stream",
     "text": [
      "Sampling: 100%|██████████| 400/400 [00:08<00:00, 45.86it/s]\n"
     ]
    },
    {
     "name": "stdout",
     "output_type": "stream",
     "text": [
      "Saved samples to ddpm_run_20250608_033804\\samples\\samples_epoch_017.png\n"
     ]
    },
    {
     "name": "stderr",
     "output_type": "stream",
     "text": [
      "Epoch 18/50: 100%|██████████| 3731/3731 [02:35<00:00, 23.96it/s, loss=0.0661]\n"
     ]
    },
    {
     "name": "stdout",
     "output_type": "stream",
     "text": [
      "Epoch 18, Avg Loss: 0.0385\n"
     ]
    },
    {
     "name": "stderr",
     "output_type": "stream",
     "text": [
      "Sampling: 100%|██████████| 400/400 [00:08<00:00, 45.66it/s]\n"
     ]
    },
    {
     "name": "stdout",
     "output_type": "stream",
     "text": [
      "Saved samples to ddpm_run_20250608_033804\\samples\\samples_epoch_018.png\n"
     ]
    },
    {
     "name": "stderr",
     "output_type": "stream",
     "text": [
      "Epoch 19/50: 100%|██████████| 3731/3731 [02:36<00:00, 23.91it/s, loss=0.0508]\n"
     ]
    },
    {
     "name": "stdout",
     "output_type": "stream",
     "text": [
      "Epoch 19, Avg Loss: 0.0395\n"
     ]
    },
    {
     "name": "stderr",
     "output_type": "stream",
     "text": [
      "Sampling: 100%|██████████| 400/400 [00:08<00:00, 45.57it/s]\n"
     ]
    },
    {
     "name": "stdout",
     "output_type": "stream",
     "text": [
      "Saved samples to ddpm_run_20250608_033804\\samples\\samples_epoch_019.png\n"
     ]
    },
    {
     "name": "stderr",
     "output_type": "stream",
     "text": [
      "Epoch 20/50: 100%|██████████| 3731/3731 [02:34<00:00, 24.08it/s, loss=0.1022]\n"
     ]
    },
    {
     "name": "stdout",
     "output_type": "stream",
     "text": [
      "Epoch 20, Avg Loss: 0.0385\n"
     ]
    },
    {
     "name": "stderr",
     "output_type": "stream",
     "text": [
      "Sampling: 100%|██████████| 400/400 [00:08<00:00, 45.57it/s]\n"
     ]
    },
    {
     "name": "stdout",
     "output_type": "stream",
     "text": [
      "Saved samples to ddpm_run_20250608_033804\\samples\\samples_epoch_020.png\n",
      "FID computed: 178.82\n",
      " → FID @20: 178.82\n",
      "Model saved to ddpm_run_20250608_033804\\models\\model_epoch_020.pth\n"
     ]
    },
    {
     "name": "stderr",
     "output_type": "stream",
     "text": [
      "Epoch 21/50: 100%|██████████| 3731/3731 [02:36<00:00, 23.88it/s, loss=0.0047]\n"
     ]
    },
    {
     "name": "stdout",
     "output_type": "stream",
     "text": [
      "Epoch 21, Avg Loss: 0.0381\n"
     ]
    },
    {
     "name": "stderr",
     "output_type": "stream",
     "text": [
      "Sampling: 100%|██████████| 400/400 [00:08<00:00, 45.87it/s]\n"
     ]
    },
    {
     "name": "stdout",
     "output_type": "stream",
     "text": [
      "Saved samples to ddpm_run_20250608_033804\\samples\\samples_epoch_021.png\n"
     ]
    },
    {
     "name": "stderr",
     "output_type": "stream",
     "text": [
      "Epoch 22/50: 100%|██████████| 3731/3731 [02:35<00:00, 23.96it/s, loss=0.0233]\n"
     ]
    },
    {
     "name": "stdout",
     "output_type": "stream",
     "text": [
      "Epoch 22, Avg Loss: 0.0385\n"
     ]
    },
    {
     "name": "stderr",
     "output_type": "stream",
     "text": [
      "Sampling: 100%|██████████| 400/400 [00:08<00:00, 45.94it/s]\n"
     ]
    },
    {
     "name": "stdout",
     "output_type": "stream",
     "text": [
      "Saved samples to ddpm_run_20250608_033804\\samples\\samples_epoch_022.png\n"
     ]
    },
    {
     "name": "stderr",
     "output_type": "stream",
     "text": [
      "Epoch 23/50: 100%|██████████| 3731/3731 [02:36<00:00, 23.92it/s, loss=0.1090]\n"
     ]
    },
    {
     "name": "stdout",
     "output_type": "stream",
     "text": [
      "Epoch 23, Avg Loss: 0.0383\n"
     ]
    },
    {
     "name": "stderr",
     "output_type": "stream",
     "text": [
      "Sampling: 100%|██████████| 400/400 [00:08<00:00, 45.90it/s]\n"
     ]
    },
    {
     "name": "stdout",
     "output_type": "stream",
     "text": [
      "Saved samples to ddpm_run_20250608_033804\\samples\\samples_epoch_023.png\n"
     ]
    },
    {
     "name": "stderr",
     "output_type": "stream",
     "text": [
      "Epoch 24/50: 100%|██████████| 3731/3731 [02:36<00:00, 23.82it/s, loss=0.0085]\n"
     ]
    },
    {
     "name": "stdout",
     "output_type": "stream",
     "text": [
      "Epoch 24, Avg Loss: 0.0382\n"
     ]
    },
    {
     "name": "stderr",
     "output_type": "stream",
     "text": [
      "Sampling: 100%|██████████| 400/400 [00:08<00:00, 45.84it/s]\n"
     ]
    },
    {
     "name": "stdout",
     "output_type": "stream",
     "text": [
      "Saved samples to ddpm_run_20250608_033804\\samples\\samples_epoch_024.png\n"
     ]
    },
    {
     "name": "stderr",
     "output_type": "stream",
     "text": [
      "Epoch 25/50: 100%|██████████| 3731/3731 [02:34<00:00, 24.07it/s, loss=0.1860]\n"
     ]
    },
    {
     "name": "stdout",
     "output_type": "stream",
     "text": [
      "Epoch 25, Avg Loss: 0.0384\n"
     ]
    },
    {
     "name": "stderr",
     "output_type": "stream",
     "text": [
      "Sampling: 100%|██████████| 400/400 [00:08<00:00, 46.02it/s]\n"
     ]
    },
    {
     "name": "stdout",
     "output_type": "stream",
     "text": [
      "Saved samples to ddpm_run_20250608_033804\\samples\\samples_epoch_025.png\n"
     ]
    },
    {
     "name": "stderr",
     "output_type": "stream",
     "text": [
      "Epoch 26/50: 100%|██████████| 3731/3731 [02:35<00:00, 24.02it/s, loss=0.0383]\n"
     ]
    },
    {
     "name": "stdout",
     "output_type": "stream",
     "text": [
      "Epoch 26, Avg Loss: 0.0380\n"
     ]
    },
    {
     "name": "stderr",
     "output_type": "stream",
     "text": [
      "Sampling: 100%|██████████| 400/400 [00:08<00:00, 45.69it/s]\n"
     ]
    },
    {
     "name": "stdout",
     "output_type": "stream",
     "text": [
      "Saved samples to ddpm_run_20250608_033804\\samples\\samples_epoch_026.png\n"
     ]
    },
    {
     "name": "stderr",
     "output_type": "stream",
     "text": [
      "Epoch 27/50: 100%|██████████| 3731/3731 [02:36<00:00, 23.86it/s, loss=0.0523]\n"
     ]
    },
    {
     "name": "stdout",
     "output_type": "stream",
     "text": [
      "Epoch 27, Avg Loss: 0.0370\n"
     ]
    },
    {
     "name": "stderr",
     "output_type": "stream",
     "text": [
      "Sampling: 100%|██████████| 400/400 [00:08<00:00, 45.67it/s]\n"
     ]
    },
    {
     "name": "stdout",
     "output_type": "stream",
     "text": [
      "Saved samples to ddpm_run_20250608_033804\\samples\\samples_epoch_027.png\n"
     ]
    },
    {
     "name": "stderr",
     "output_type": "stream",
     "text": [
      "Epoch 28/50: 100%|██████████| 3731/3731 [02:36<00:00, 23.84it/s, loss=0.0278]\n"
     ]
    },
    {
     "name": "stdout",
     "output_type": "stream",
     "text": [
      "Epoch 28, Avg Loss: 0.0382\n"
     ]
    },
    {
     "name": "stderr",
     "output_type": "stream",
     "text": [
      "Sampling: 100%|██████████| 400/400 [00:08<00:00, 45.81it/s]\n"
     ]
    },
    {
     "name": "stdout",
     "output_type": "stream",
     "text": [
      "Saved samples to ddpm_run_20250608_033804\\samples\\samples_epoch_028.png\n"
     ]
    },
    {
     "name": "stderr",
     "output_type": "stream",
     "text": [
      "Epoch 29/50: 100%|██████████| 3731/3731 [02:36<00:00, 23.85it/s, loss=0.0103]\n"
     ]
    },
    {
     "name": "stdout",
     "output_type": "stream",
     "text": [
      "Epoch 29, Avg Loss: 0.0387\n"
     ]
    },
    {
     "name": "stderr",
     "output_type": "stream",
     "text": [
      "Sampling: 100%|██████████| 400/400 [00:08<00:00, 45.77it/s]\n"
     ]
    },
    {
     "name": "stdout",
     "output_type": "stream",
     "text": [
      "Saved samples to ddpm_run_20250608_033804\\samples\\samples_epoch_029.png\n"
     ]
    },
    {
     "name": "stderr",
     "output_type": "stream",
     "text": [
      "Epoch 30/50: 100%|██████████| 3731/3731 [02:36<00:00, 23.84it/s, loss=0.0166]\n"
     ]
    },
    {
     "name": "stdout",
     "output_type": "stream",
     "text": [
      "Epoch 30, Avg Loss: 0.0379\n"
     ]
    },
    {
     "name": "stderr",
     "output_type": "stream",
     "text": [
      "Sampling: 100%|██████████| 400/400 [00:08<00:00, 45.84it/s]\n"
     ]
    },
    {
     "name": "stdout",
     "output_type": "stream",
     "text": [
      "Saved samples to ddpm_run_20250608_033804\\samples\\samples_epoch_030.png\n",
      "FID computed: 169.67\n",
      " → FID @30: 169.67\n",
      "Model saved to ddpm_run_20250608_033804\\models\\model_epoch_030.pth\n"
     ]
    },
    {
     "name": "stderr",
     "output_type": "stream",
     "text": [
      "Epoch 31/50: 100%|██████████| 3731/3731 [02:34<00:00, 24.13it/s, loss=0.0326]\n"
     ]
    },
    {
     "name": "stdout",
     "output_type": "stream",
     "text": [
      "Epoch 31, Avg Loss: 0.0375\n"
     ]
    },
    {
     "name": "stderr",
     "output_type": "stream",
     "text": [
      "Sampling: 100%|██████████| 400/400 [00:08<00:00, 45.75it/s]\n"
     ]
    },
    {
     "name": "stdout",
     "output_type": "stream",
     "text": [
      "Saved samples to ddpm_run_20250608_033804\\samples\\samples_epoch_031.png\n"
     ]
    },
    {
     "name": "stderr",
     "output_type": "stream",
     "text": [
      "Epoch 32/50: 100%|██████████| 3731/3731 [02:33<00:00, 24.33it/s, loss=0.0899]\n"
     ]
    },
    {
     "name": "stdout",
     "output_type": "stream",
     "text": [
      "Epoch 32, Avg Loss: 0.0378\n"
     ]
    },
    {
     "name": "stderr",
     "output_type": "stream",
     "text": [
      "Sampling: 100%|██████████| 400/400 [00:08<00:00, 45.74it/s]\n"
     ]
    },
    {
     "name": "stdout",
     "output_type": "stream",
     "text": [
      "Saved samples to ddpm_run_20250608_033804\\samples\\samples_epoch_032.png\n"
     ]
    },
    {
     "name": "stderr",
     "output_type": "stream",
     "text": [
      "Epoch 33/50: 100%|██████████| 3731/3731 [02:34<00:00, 24.11it/s, loss=0.0292]\n"
     ]
    },
    {
     "name": "stdout",
     "output_type": "stream",
     "text": [
      "Epoch 33, Avg Loss: 0.0376\n"
     ]
    },
    {
     "name": "stderr",
     "output_type": "stream",
     "text": [
      "Sampling: 100%|██████████| 400/400 [00:08<00:00, 45.77it/s]\n"
     ]
    },
    {
     "name": "stdout",
     "output_type": "stream",
     "text": [
      "Saved samples to ddpm_run_20250608_033804\\samples\\samples_epoch_033.png\n"
     ]
    },
    {
     "name": "stderr",
     "output_type": "stream",
     "text": [
      "Epoch 34/50: 100%|██████████| 3731/3731 [02:33<00:00, 24.31it/s, loss=0.0455]\n"
     ]
    },
    {
     "name": "stdout",
     "output_type": "stream",
     "text": [
      "Epoch 34, Avg Loss: 0.0376\n"
     ]
    },
    {
     "name": "stderr",
     "output_type": "stream",
     "text": [
      "Sampling: 100%|██████████| 400/400 [00:08<00:00, 45.85it/s]\n"
     ]
    },
    {
     "name": "stdout",
     "output_type": "stream",
     "text": [
      "Saved samples to ddpm_run_20250608_033804\\samples\\samples_epoch_034.png\n"
     ]
    },
    {
     "name": "stderr",
     "output_type": "stream",
     "text": [
      "Epoch 35/50: 100%|██████████| 3731/3731 [02:34<00:00, 24.13it/s, loss=0.0115]\n"
     ]
    },
    {
     "name": "stdout",
     "output_type": "stream",
     "text": [
      "Epoch 35, Avg Loss: 0.0376\n"
     ]
    },
    {
     "name": "stderr",
     "output_type": "stream",
     "text": [
      "Sampling: 100%|██████████| 400/400 [00:08<00:00, 45.64it/s]\n"
     ]
    },
    {
     "name": "stdout",
     "output_type": "stream",
     "text": [
      "Saved samples to ddpm_run_20250608_033804\\samples\\samples_epoch_035.png\n"
     ]
    },
    {
     "name": "stderr",
     "output_type": "stream",
     "text": [
      "Epoch 36/50: 100%|██████████| 3731/3731 [02:34<00:00, 24.09it/s, loss=0.0476]\n"
     ]
    },
    {
     "name": "stdout",
     "output_type": "stream",
     "text": [
      "Epoch 36, Avg Loss: 0.0377\n"
     ]
    },
    {
     "name": "stderr",
     "output_type": "stream",
     "text": [
      "Sampling: 100%|██████████| 400/400 [00:08<00:00, 45.82it/s]\n"
     ]
    },
    {
     "name": "stdout",
     "output_type": "stream",
     "text": [
      "Saved samples to ddpm_run_20250608_033804\\samples\\samples_epoch_036.png\n"
     ]
    },
    {
     "name": "stderr",
     "output_type": "stream",
     "text": [
      "Epoch 37/50: 100%|██████████| 3731/3731 [02:34<00:00, 24.12it/s, loss=0.0129]\n"
     ]
    },
    {
     "name": "stdout",
     "output_type": "stream",
     "text": [
      "Epoch 37, Avg Loss: 0.0376\n"
     ]
    },
    {
     "name": "stderr",
     "output_type": "stream",
     "text": [
      "Sampling: 100%|██████████| 400/400 [00:08<00:00, 45.86it/s]\n"
     ]
    },
    {
     "name": "stdout",
     "output_type": "stream",
     "text": [
      "Saved samples to ddpm_run_20250608_033804\\samples\\samples_epoch_037.png\n"
     ]
    },
    {
     "name": "stderr",
     "output_type": "stream",
     "text": [
      "Epoch 38/50: 100%|██████████| 3731/3731 [02:34<00:00, 24.10it/s, loss=0.0325]\n"
     ]
    },
    {
     "name": "stdout",
     "output_type": "stream",
     "text": [
      "Epoch 38, Avg Loss: 0.0383\n"
     ]
    },
    {
     "name": "stderr",
     "output_type": "stream",
     "text": [
      "Sampling: 100%|██████████| 400/400 [00:08<00:00, 46.10it/s]\n"
     ]
    },
    {
     "name": "stdout",
     "output_type": "stream",
     "text": [
      "Saved samples to ddpm_run_20250608_033804\\samples\\samples_epoch_038.png\n"
     ]
    },
    {
     "name": "stderr",
     "output_type": "stream",
     "text": [
      "Epoch 39/50: 100%|██████████| 3731/3731 [02:34<00:00, 24.13it/s, loss=0.0098]\n"
     ]
    },
    {
     "name": "stdout",
     "output_type": "stream",
     "text": [
      "Epoch 39, Avg Loss: 0.0381\n"
     ]
    },
    {
     "name": "stderr",
     "output_type": "stream",
     "text": [
      "Sampling: 100%|██████████| 400/400 [00:08<00:00, 45.75it/s]\n"
     ]
    },
    {
     "name": "stdout",
     "output_type": "stream",
     "text": [
      "Saved samples to ddpm_run_20250608_033804\\samples\\samples_epoch_039.png\n"
     ]
    },
    {
     "name": "stderr",
     "output_type": "stream",
     "text": [
      "Epoch 40/50: 100%|██████████| 3731/3731 [02:34<00:00, 24.20it/s, loss=0.1032]\n"
     ]
    },
    {
     "name": "stdout",
     "output_type": "stream",
     "text": [
      "Epoch 40, Avg Loss: 0.0374\n"
     ]
    },
    {
     "name": "stderr",
     "output_type": "stream",
     "text": [
      "Sampling: 100%|██████████| 400/400 [00:08<00:00, 45.80it/s]\n"
     ]
    },
    {
     "name": "stdout",
     "output_type": "stream",
     "text": [
      "Saved samples to ddpm_run_20250608_033804\\samples\\samples_epoch_040.png\n",
      "FID computed: 167.42\n",
      " → FID @40: 167.42\n",
      "Model saved to ddpm_run_20250608_033804\\models\\model_epoch_040.pth\n"
     ]
    },
    {
     "name": "stderr",
     "output_type": "stream",
     "text": [
      "Epoch 41/50: 100%|██████████| 3731/3731 [02:35<00:00, 24.02it/s, loss=0.0038]\n"
     ]
    },
    {
     "name": "stdout",
     "output_type": "stream",
     "text": [
      "Epoch 41, Avg Loss: 0.0376\n"
     ]
    },
    {
     "name": "stderr",
     "output_type": "stream",
     "text": [
      "Sampling: 100%|██████████| 400/400 [00:08<00:00, 46.11it/s]\n"
     ]
    },
    {
     "name": "stdout",
     "output_type": "stream",
     "text": [
      "Saved samples to ddpm_run_20250608_033804\\samples\\samples_epoch_041.png\n"
     ]
    },
    {
     "name": "stderr",
     "output_type": "stream",
     "text": [
      "Epoch 42/50: 100%|██████████| 3731/3731 [02:35<00:00, 23.97it/s, loss=0.0238]\n"
     ]
    },
    {
     "name": "stdout",
     "output_type": "stream",
     "text": [
      "Epoch 42, Avg Loss: 0.0369\n"
     ]
    },
    {
     "name": "stderr",
     "output_type": "stream",
     "text": [
      "Sampling: 100%|██████████| 400/400 [00:08<00:00, 45.86it/s]\n"
     ]
    },
    {
     "name": "stdout",
     "output_type": "stream",
     "text": [
      "Saved samples to ddpm_run_20250608_033804\\samples\\samples_epoch_042.png\n"
     ]
    },
    {
     "name": "stderr",
     "output_type": "stream",
     "text": [
      "Epoch 43/50: 100%|██████████| 3731/3731 [02:35<00:00, 24.03it/s, loss=0.0190]\n"
     ]
    },
    {
     "name": "stdout",
     "output_type": "stream",
     "text": [
      "Epoch 43, Avg Loss: 0.0379\n"
     ]
    },
    {
     "name": "stderr",
     "output_type": "stream",
     "text": [
      "Sampling: 100%|██████████| 400/400 [00:08<00:00, 45.83it/s]\n"
     ]
    },
    {
     "name": "stdout",
     "output_type": "stream",
     "text": [
      "Saved samples to ddpm_run_20250608_033804\\samples\\samples_epoch_043.png\n"
     ]
    },
    {
     "name": "stderr",
     "output_type": "stream",
     "text": [
      "Epoch 44/50: 100%|██████████| 3731/3731 [02:34<00:00, 24.22it/s, loss=0.0066]\n"
     ]
    },
    {
     "name": "stdout",
     "output_type": "stream",
     "text": [
      "Epoch 44, Avg Loss: 0.0374\n"
     ]
    },
    {
     "name": "stderr",
     "output_type": "stream",
     "text": [
      "Sampling: 100%|██████████| 400/400 [00:08<00:00, 45.80it/s]\n"
     ]
    },
    {
     "name": "stdout",
     "output_type": "stream",
     "text": [
      "Saved samples to ddpm_run_20250608_033804\\samples\\samples_epoch_044.png\n"
     ]
    },
    {
     "name": "stderr",
     "output_type": "stream",
     "text": [
      "Epoch 45/50: 100%|██████████| 3731/3731 [02:35<00:00, 24.06it/s, loss=0.0278]\n"
     ]
    },
    {
     "name": "stdout",
     "output_type": "stream",
     "text": [
      "Epoch 45, Avg Loss: 0.0374\n"
     ]
    },
    {
     "name": "stderr",
     "output_type": "stream",
     "text": [
      "Sampling: 100%|██████████| 400/400 [00:08<00:00, 45.84it/s]\n"
     ]
    },
    {
     "name": "stdout",
     "output_type": "stream",
     "text": [
      "Saved samples to ddpm_run_20250608_033804\\samples\\samples_epoch_045.png\n"
     ]
    },
    {
     "name": "stderr",
     "output_type": "stream",
     "text": [
      "Epoch 46/50: 100%|██████████| 3731/3731 [02:35<00:00, 23.99it/s, loss=0.0200]\n"
     ]
    },
    {
     "name": "stdout",
     "output_type": "stream",
     "text": [
      "Epoch 46, Avg Loss: 0.0375\n"
     ]
    },
    {
     "name": "stderr",
     "output_type": "stream",
     "text": [
      "Sampling: 100%|██████████| 400/400 [00:08<00:00, 45.88it/s]\n"
     ]
    },
    {
     "name": "stdout",
     "output_type": "stream",
     "text": [
      "Saved samples to ddpm_run_20250608_033804\\samples\\samples_epoch_046.png\n"
     ]
    },
    {
     "name": "stderr",
     "output_type": "stream",
     "text": [
      "Epoch 47/50: 100%|██████████| 3731/3731 [02:34<00:00, 24.10it/s, loss=0.0188]\n"
     ]
    },
    {
     "name": "stdout",
     "output_type": "stream",
     "text": [
      "Epoch 47, Avg Loss: 0.0372\n"
     ]
    },
    {
     "name": "stderr",
     "output_type": "stream",
     "text": [
      "Sampling: 100%|██████████| 400/400 [00:08<00:00, 45.71it/s]\n"
     ]
    },
    {
     "name": "stdout",
     "output_type": "stream",
     "text": [
      "Saved samples to ddpm_run_20250608_033804\\samples\\samples_epoch_047.png\n"
     ]
    },
    {
     "name": "stderr",
     "output_type": "stream",
     "text": [
      "Epoch 48/50: 100%|██████████| 3731/3731 [02:35<00:00, 23.95it/s, loss=0.0734]\n"
     ]
    },
    {
     "name": "stdout",
     "output_type": "stream",
     "text": [
      "Epoch 48, Avg Loss: 0.0378\n"
     ]
    },
    {
     "name": "stderr",
     "output_type": "stream",
     "text": [
      "Sampling: 100%|██████████| 400/400 [00:08<00:00, 45.81it/s]\n"
     ]
    },
    {
     "name": "stdout",
     "output_type": "stream",
     "text": [
      "Saved samples to ddpm_run_20250608_033804\\samples\\samples_epoch_048.png\n"
     ]
    },
    {
     "name": "stderr",
     "output_type": "stream",
     "text": [
      "Epoch 49/50: 100%|██████████| 3731/3731 [02:34<00:00, 24.17it/s, loss=0.0423]\n"
     ]
    },
    {
     "name": "stdout",
     "output_type": "stream",
     "text": [
      "Epoch 49, Avg Loss: 0.0377\n"
     ]
    },
    {
     "name": "stderr",
     "output_type": "stream",
     "text": [
      "Sampling: 100%|██████████| 400/400 [00:08<00:00, 45.98it/s]\n"
     ]
    },
    {
     "name": "stdout",
     "output_type": "stream",
     "text": [
      "Saved samples to ddpm_run_20250608_033804\\samples\\samples_epoch_049.png\n"
     ]
    },
    {
     "name": "stderr",
     "output_type": "stream",
     "text": [
      "Epoch 50/50: 100%|██████████| 3731/3731 [02:35<00:00, 23.96it/s, loss=0.0331]\n"
     ]
    },
    {
     "name": "stdout",
     "output_type": "stream",
     "text": [
      "Epoch 50, Avg Loss: 0.0382\n"
     ]
    },
    {
     "name": "stderr",
     "output_type": "stream",
     "text": [
      "Sampling: 100%|██████████| 400/400 [00:08<00:00, 46.11it/s]\n"
     ]
    },
    {
     "name": "stdout",
     "output_type": "stream",
     "text": [
      "Saved samples to ddpm_run_20250608_033804\\samples\\samples_epoch_050.png\n",
      "FID computed: 157.01\n",
      " → FID @50: 157.01\n",
      "Model saved to ddpm_run_20250608_033804\\models\\model_epoch_050.pth\n",
      "Model saved to ddpm_run_20250608_033804\\models\\final_model.pth\n"
     ]
    },
    {
     "data": {
      "image/png": "[encoded data removed]",
      "text/plain": [
       "<Figure size 1000x600 with 1 Axes>"
      ]
     },
     "metadata": {},
     "output_type": "display_data"
    },
    {
     "name": "stdout",
     "output_type": "stream",
     "text": [
      "Loss plot saved to ddpm_run_20250608_033804\\plots\\training_loss.png\n",
      "\n",
      "Training completed! All outputs saved in: ddpm_run_20250608_033804\n",
      "\n",
      "Training Summary:\n",
      "Final loss: 0.0382\n",
      "Best FID score: 157.01\n",
      "Final FID score: 157.01\n"
     ]
    }
   ],
   "source": [
    "from torcheval.metrics import FrechetInceptionDistance\n",
    "\n",
    "\n",
    "class SinusoidalPositionEmbeddings(nn.Module):\n",
    "    def __init__(self, dim):\n",
    "        super().__init__()\n",
    "        self.dim = dim\n",
    "\n",
    "    def forward(self, time):\n",
    "        device = time.device\n",
    "        half_dim = self.dim // 2\n",
    "        embeddings = math.log(10000) / (half_dim - 1)\n",
    "        embeddings = torch.exp(torch.arange(half_dim, device=device) * -embeddings)\n",
    "        embeddings = time[:, None] * embeddings[None, :]\n",
    "        embeddings = torch.cat((embeddings.sin(), embeddings.cos()), dim=-1)\n",
    "        return embeddings\n",
    "\n",
    "class ResBlock(nn.Module):\n",
    "    def __init__(self, in_ch, out_ch, time_emb_dim, dropout=0.1):\n",
    "        super().__init__()\n",
    "        self.time_mlp = nn.Linear(time_emb_dim, out_ch)\n",
    "        \n",
    "        self.conv1 = nn.Conv2d(in_ch, out_ch, 3, padding=1)\n",
    "        self.conv2 = nn.Conv2d(out_ch, out_ch, 3, padding=1)\n",
    "        \n",
    "        self.norm1 = nn.GroupNorm(8, out_ch)\n",
    "        self.norm2 = nn.GroupNorm(8, out_ch)\n",
    "        \n",
    "        self.dropout = nn.Dropout(dropout)\n",
    "        \n",
    "        self.skip = nn.Conv2d(in_ch, out_ch, 1) if in_ch != out_ch else nn.Identity()\n",
    "\n",
    "    def forward(self, x, time_emb):\n",
    "        h = self.conv1(x)\n",
    "        h = self.norm1(h)\n",
    "        h = F.silu(h)\n",
    "        \n",
    "        # Add time embedding\n",
    "        time_emb = self.time_mlp(time_emb)\n",
    "        h = h + time_emb[:, :, None, None]\n",
    "        \n",
    "        h = self.conv2(h)\n",
    "        h = self.norm2(h)\n",
    "        h = self.dropout(h)\n",
    "        h = F.silu(h)\n",
    "        \n",
    "        return h + self.skip(x)\n",
    "\n",
    "class AttentionBlock(nn.Module):\n",
    "    def __init__(self, channels):\n",
    "        super().__init__()\n",
    "        self.channels = channels\n",
    "        self.norm = nn.GroupNorm(8, channels)\n",
    "        self.qkv = nn.Conv2d(channels, channels * 3, 1)\n",
    "        self.proj = nn.Conv2d(channels, channels, 1)\n",
    "\n",
    "    def forward(self, x):\n",
    "        B, C, H, W = x.shape\n",
    "        h = self.norm(x)\n",
    "        qkv = self.qkv(h).reshape(B, 3, C, H * W)\n",
    "        q, k, v = qkv.unbind(dim=1)\n",
    "        \n",
    "        # Scaled dot-product attention\n",
    "        scale = 1 / math.sqrt(C)\n",
    "        attn = torch.softmax(torch.einsum('bci,bcj->bij', q, k) * scale, dim=-1)\n",
    "        h = torch.einsum('bij,bcj->bci', attn, v)\n",
    "        h = h.reshape(B, C, H, W)\n",
    "        \n",
    "        return x + self.proj(h)\n",
    "\n",
    "class UNet(nn.Module):\n",
    "    def __init__(self, in_ch=3, out_ch=3, time_emb_dim=256, ch_mult=(1, 2, 4)):\n",
    "        super().__init__()\n",
    "        self.time_emb_dim = time_emb_dim\n",
    "        \n",
    "        # Time embedding\n",
    "        self.time_embedding = SinusoidalPositionEmbeddings(time_emb_dim)\n",
    "        self.time_mlp = nn.Sequential(\n",
    "            nn.Linear(time_emb_dim, time_emb_dim),\n",
    "            nn.SiLU(),\n",
    "            nn.Linear(time_emb_dim, time_emb_dim),\n",
    "        )\n",
    "        \n",
    "        # Initial projection\n",
    "        self.conv_in = nn.Conv2d(in_ch, 64, 3, padding=1)\n",
    "        \n",
    "        # Downsampling\n",
    "        self.down_blocks = nn.ModuleList()\n",
    "        ch = 64\n",
    "        for mult in ch_mult:\n",
    "            out_ch = 64 * mult\n",
    "            self.down_blocks.append(nn.ModuleList([\n",
    "                ResBlock(ch, out_ch, time_emb_dim),\n",
    "                ResBlock(out_ch, out_ch, time_emb_dim),\n",
    "                AttentionBlock(out_ch) if mult >= 2 else nn.Identity(),\n",
    "                nn.Conv2d(out_ch, out_ch, 3, stride=2, padding=1)\n",
    "            ]))\n",
    "            ch = out_ch\n",
    "        \n",
    "        # Middle\n",
    "        self.mid_block1 = ResBlock(ch, ch, time_emb_dim)\n",
    "        self.mid_attn = AttentionBlock(ch)\n",
    "        self.mid_block2 = ResBlock(ch, ch, time_emb_dim)\n",
    "        \n",
    "        # Upsampling\n",
    "        self.up_blocks = nn.ModuleList()\n",
    "        for mult in reversed(ch_mult):\n",
    "            out_ch = 64 * mult\n",
    "            self.up_blocks.append(nn.ModuleList([\n",
    "                nn.ConvTranspose2d(ch, out_ch, 4, stride=2, padding=1),\n",
    "                ResBlock(out_ch * 2, out_ch, time_emb_dim),\n",
    "                ResBlock(out_ch, out_ch, time_emb_dim),\n",
    "                AttentionBlock(out_ch) if mult >= 2 else nn.Identity(),\n",
    "            ]))\n",
    "            ch = out_ch\n",
    "        \n",
    "        # Output\n",
    "        self.conv_out = nn.Sequential(\n",
    "            nn.GroupNorm(8, ch),\n",
    "            nn.SiLU(),\n",
    "            nn.Conv2d(ch, 3, 3, padding=1),\n",
    "        )\n",
    "\n",
    "    def forward(self, x, time):\n",
    "        # Time embedding\n",
    "        time_emb = self.time_embedding(time)\n",
    "        time_emb = self.time_mlp(time_emb)\n",
    "        \n",
    "        # Initial conv\n",
    "        h = self.conv_in(x)\n",
    "        \n",
    "        # Store skip connections\n",
    "        skip_connections = [h]\n",
    "        \n",
    "        # Downsampling\n",
    "        for res1, res2, attn, downsample in self.down_blocks:\n",
    "            h = res1(h, time_emb)\n",
    "            h = res2(h, time_emb)\n",
    "            h = attn(h)\n",
    "            skip_connections.append(h)\n",
    "            h = downsample(h)\n",
    "        \n",
    "        # Middle\n",
    "        h = self.mid_block1(h, time_emb)\n",
    "        h = self.mid_attn(h)\n",
    "        h = self.mid_block2(h, time_emb)\n",
    "        \n",
    "        # Upsampling\n",
    "        for upsample, res1, res2, attn in self.up_blocks:\n",
    "            h = upsample(h)\n",
    "            h = torch.cat([h, skip_connections.pop()], dim=1)\n",
    "            h = res1(h, time_emb)\n",
    "            h = res2(h, time_emb)\n",
    "            h = attn(h)\n",
    "        \n",
    "        return self.conv_out(h)\n",
    "\n",
    "class DDPM:\n",
    "    def __init__(self, model, timesteps=1000, beta_start=1e-4, beta_end=0.02):\n",
    "        self.model = model\n",
    "        self.timesteps = timesteps\n",
    "        \n",
    "        # Create noise schedule\n",
    "        self.betas = torch.linspace(beta_start, beta_end, timesteps)\n",
    "        self.alphas = 1.0 - self.betas\n",
    "        self.alphas_cumprod = torch.cumprod(self.alphas, axis=0)\n",
    "        self.alphas_cumprod_prev = F.pad(self.alphas_cumprod[:-1], (1, 0), value=1.0)\n",
    "        \n",
    "        # Calculations for diffusion q(x_t | x_{t-1}) and others\n",
    "        self.sqrt_alphas_cumprod = torch.sqrt(self.alphas_cumprod)\n",
    "        self.sqrt_one_minus_alphas_cumprod = torch.sqrt(1.0 - self.alphas_cumprod)\n",
    "        \n",
    "        # Calculations for posterior q(x_{t-1} | x_t, x_0)\n",
    "        self.posterior_variance = self.betas * (1.0 - self.alphas_cumprod_prev) / (1.0 - self.alphas_cumprod)\n",
    "\n",
    "    def q_sample(self, x_start, t, noise=None):\n",
    "        \"\"\"Sample from q(x_t | x_0)\"\"\"\n",
    "        if noise is None:\n",
    "            noise = torch.randn_like(x_start)\n",
    "        \n",
    "        sqrt_alphas_cumprod_t = self.sqrt_alphas_cumprod[t]\n",
    "        sqrt_one_minus_alphas_cumprod_t = self.sqrt_one_minus_alphas_cumprod[t]\n",
    "        \n",
    "        return (sqrt_alphas_cumprod_t.reshape(-1, 1, 1, 1) * x_start + \n",
    "                sqrt_one_minus_alphas_cumprod_t.reshape(-1, 1, 1, 1) * noise)\n",
    "\n",
    "    def p_losses(self, x_start, t, noise=None):\n",
    "        \"\"\"Training loss\"\"\"\n",
    "        if noise is None:\n",
    "            noise = torch.randn_like(x_start)\n",
    "        \n",
    "        x_noisy = self.q_sample(x_start=x_start, t=t, noise=noise)\n",
    "        predicted_noise = self.model(x_noisy, t)\n",
    "        \n",
    "        return F.mse_loss(noise, predicted_noise)\n",
    "\n",
    "    @torch.no_grad()\n",
    "    def p_sample(self, x, t, t_index):\n",
    "        \"\"\"Sample from p(x_{t-1} | x_t)\"\"\"\n",
    "        betas_t = self.betas[t]\n",
    "        sqrt_one_minus_alphas_cumprod_t = self.sqrt_one_minus_alphas_cumprod[t]\n",
    "        sqrt_recip_alphas_t = torch.sqrt(1.0 / self.alphas[t])\n",
    "        \n",
    "        # Equation 11 in the paper\n",
    "        model_mean = sqrt_recip_alphas_t.reshape(-1, 1, 1, 1) * (\n",
    "            x - betas_t.reshape(-1, 1, 1, 1) * self.model(x, t) / sqrt_one_minus_alphas_cumprod_t.reshape(-1, 1, 1, 1)\n",
    "        )\n",
    "        \n",
    "        if t_index == 0:\n",
    "            return model_mean\n",
    "        else:\n",
    "            posterior_variance_t = self.posterior_variance[t]\n",
    "            noise = torch.randn_like(x)\n",
    "            return model_mean + torch.sqrt(posterior_variance_t.reshape(-1, 1, 1, 1)) * noise\n",
    "\n",
    "    @torch.no_grad()\n",
    "    def sample(self, shape, device):\n",
    "        \"\"\"Generate samples\"\"\"\n",
    "        img = torch.randn(shape, device=device)\n",
    "        \n",
    "        for i in tqdm(reversed(range(0, self.timesteps)), desc='Sampling', total=self.timesteps):\n",
    "            t = torch.full((shape[0],), i, device=device, dtype=torch.long)\n",
    "            img = self.p_sample(img, t, i)\n",
    "        \n",
    "        return img\n",
    "\n",
    "\n",
    "fid_metric = FrechetInceptionDistance(device=device)\n",
    "dataset = TensorDataset(images)\n",
    "dataloader = DataLoader(dataset, batch_size=BATCH_SIZE, shuffle=True)\n",
    "model = UNet().to(device)\n",
    "ddpm = DDPM(model, timesteps=400)\n",
    "\n",
    "for attr_name in ['betas', 'alphas', 'alphas_cumprod', 'alphas_cumprod_prev', \n",
    "                  'sqrt_alphas_cumprod', 'sqrt_one_minus_alphas_cumprod', 'posterior_variance']:\n",
    "    setattr(ddpm, attr_name, getattr(ddpm, attr_name).to(device))\n",
    "\n",
    "optimizer = torch.optim.AdamW(model.parameters(), lr=2e-4, weight_decay=1e-4)\n",
    "\n",
    "def count_parameters(model):\n",
    "    return sum(p.numel() for p in model.parameters() if p.requires_grad)\n",
    "\n",
    "print(f\"Model has {count_parameters(model):,} trainable parameters\")\n",
    "\n",
    "\n",
    "\n",
    "def create_timestamped_directory():\n",
    "    \"\"\"Create a timestamped directory for this training run\"\"\"\n",
    "    timestamp = datetime.datetime.now().strftime(\"%Y%m%d_%H%M%S\")\n",
    "    run_dir = Path(f\"ddpm_run_{timestamp}\")\n",
    "    run_dir.mkdir(exist_ok=True)\n",
    "    \n",
    "    # Create subdirectories\n",
    "    samples_dir = run_dir / \"samples\"\n",
    "    models_dir = run_dir / \"models\"\n",
    "    plots_dir = run_dir / \"plots\"\n",
    "    \n",
    "    samples_dir.mkdir(exist_ok=True)\n",
    "    models_dir.mkdir(exist_ok=True)\n",
    "    plots_dir.mkdir(exist_ok=True)\n",
    "    \n",
    "    print(f\"Created training directory: {run_dir}\")\n",
    "    return run_dir, samples_dir, models_dir, plots_dir\n",
    "\n",
    "\n",
    "\n",
    "# ── Enhanced Training Loop with FID Evaluation and Directory Management ──────\n",
    "\n",
    "def train_ddpm(epochs=50, fid_every=2):\n",
    "    \"\"\"\n",
    "    Train DDPM with enhanced features:\n",
    "    - Timestamped directory creation\n",
    "    - Sample generation every epoch\n",
    "    - FID calculation every fid_every epochs\n",
    "    - FID progress plotting\n",
    "    \"\"\"\n",
    "    # Create timestamped directory structure\n",
    "    run_dir, samples_dir, models_dir, plots_dir = create_timestamped_directory()\n",
    "    fidm = FrechetInceptionDistance(device=device)\n",
    "    model.train()\n",
    "    losses = []\n",
    "    fid_scores = []\n",
    "    fid_epochs = []\n",
    "    \n",
    "    \n",
    "    for epoch in range(epochs):\n",
    "        epoch_losses = []\n",
    "        pbar = tqdm(dataloader, desc=f\"Epoch {epoch+1}/{epochs}\")\n",
    "        for batch_idx, (batch,) in enumerate(pbar):\n",
    "            batch = batch.to(device)\n",
    "            optimizer.zero_grad()\n",
    "\n",
    "            # 1) sample random timesteps\n",
    "            t = torch.randint(0, ddpm.timesteps, (batch.size(0),), device=device).long()\n",
    "\n",
    "            # 2) compute loss\n",
    "            loss = ddpm.p_losses(batch, t)\n",
    "            loss.backward()\n",
    "            torch.nn.utils.clip_grad_norm_(model.parameters(), 1.0)\n",
    "            optimizer.step()\n",
    "\n",
    "            epoch_losses.append(loss.item())\n",
    "            pbar.set_postfix(loss=f\"{loss.item():.4f}\")\n",
    "\n",
    "        avg_loss = sum(epoch_losses) / len(epoch_losses)\n",
    "        losses.append(avg_loss)\n",
    "        print(f\"Epoch {epoch+1}, Avg Loss: {avg_loss:.4f}\")\n",
    "        \n",
    "        # Generate samples every epoch\n",
    "        model.eval()\n",
    "        with torch.no_grad():\n",
    "            samples = ddpm.sample((16, 3, IMAGE_SIZE, IMAGE_SIZE), device)\n",
    "            samples = (samples + 1) / 2  # Denormalize\n",
    "            samples = torch.clamp(samples, 0, 1)\n",
    "            \n",
    "            # Save samples with epoch number\n",
    "            sample_path = samples_dir / f'samples_epoch_{epoch+1:03d}.png'\n",
    "            vutils.save_image(samples, sample_path, nrow=4)\n",
    "            print(f'Saved samples to {sample_path}')\n",
    "        \n",
    "        if (epoch + 1) % fid_every == 0:\n",
    "            num_fid   = 20\n",
    "            fid_batch = 5\n",
    "\n",
    "            fidm.reset()\n",
    "            # 1) fake images in small batches\n",
    "            for i in range(0, num_fid, fid_batch):\n",
    "                b = min(fid_batch, num_fid - i)\n",
    "                fake = torch.randn(b, 3, IMAGE_SIZE, IMAGE_SIZE, device=device)\n",
    "                # reverse‐diffuse\n",
    "                for tstep in reversed(range(ddpm.timesteps)):\n",
    "                    t_tensor = torch.full((b,), tstep, device=device, dtype=torch.long)\n",
    "                    fake = ddpm.p_sample(fake, t_tensor, tstep)\n",
    "                fake_imgs = (fake.clamp(-1,1) + 1) / 2\n",
    "                fidm.update(fake_imgs.cpu(), is_real=False)\n",
    "                del fake, fake_imgs\n",
    "\n",
    "            # 2) real images in small batches\n",
    "            real_idxs = torch.randperm(len(images))[:num_fid]\n",
    "            for i in range(0, num_fid, fid_batch):\n",
    "                b = min(fid_batch, num_fid - i)\n",
    "                real_batch = images[real_idxs[i : i + b]].cpu()\n",
    "                real_imgs  = (real_batch.clamp(-1,1) + 1) / 2\n",
    "                fidm.update(real_imgs, is_real=True)\n",
    "                del real_batch, real_imgs\n",
    "\n",
    "            fid_val = fidm.compute().item()\n",
    "            fid_scores.append(fid_val)\n",
    "            print(f\"FID computed: {fid_val:.2f}\")\n",
    "            fid_epochs.append(epoch+1)\n",
    "            print(f\" → FID @{epoch+1}: {fid_val:.2f}\")\n",
    "\n",
    "        # Save model checkpoint every 10 epochs\n",
    "        if (epoch + 1) % 10 == 0:\n",
    "            model_path = models_dir / f'model_epoch_{epoch+1:03d}.pth'\n",
    "            save_model(model_path)\n",
    "        \n",
    "        model.train()\n",
    "    \n",
    "    # Save final model\n",
    "    final_model_path = models_dir / 'final_model.pth'\n",
    "    save_model(final_model_path)\n",
    "    \n",
    "    # Plot training loss\n",
    "    plt.figure(figsize=(10, 6))\n",
    "    plt.plot(range(1, len(losses) + 1), losses, 'r-', linewidth=2)\n",
    "    plt.xlabel('Epoch')\n",
    "    plt.ylabel('Loss')\n",
    "    plt.title('Training Loss Progress')\n",
    "    plt.grid(True, alpha=0.3)\n",
    "    plt.tight_layout()\n",
    "    \n",
    "    loss_plot_path = plots_dir / 'training_loss.png'\n",
    "    plt.savefig(loss_plot_path, dpi=300, bbox_inches='tight')\n",
    "    plt.show()\n",
    "    print(f\"Loss plot saved to {loss_plot_path}\")\n",
    "    \n",
    "    \n",
    "    print(f\"\\nTraining completed! All outputs saved in: {run_dir}\")\n",
    "    return losses, fid_scores, fid_epochs\n",
    "\n",
    "\n",
    "\n",
    "def save_model(filepath):\n",
    "    \"\"\"Save model checkpoint\"\"\"\n",
    "    torch.save({\n",
    "        'model_state_dict': model.state_dict(),\n",
    "        'optimizer_state_dict': optimizer.state_dict(),\n",
    "    }, filepath)\n",
    "    print(f'Model saved to {filepath}')\n",
    "\n",
    "def load_model(filepath):\n",
    "    \"\"\"Load model checkpoint\"\"\"\n",
    "    checkpoint = torch.load(filepath, map_location=device)\n",
    "    model.load_state_dict(checkpoint['model_state_dict'])\n",
    "    optimizer.load_state_dict(checkpoint['optimizer_state_dict'])\n",
    "    print(f'Model loaded from {filepath}')\n",
    "\n",
    "\n",
    "if __name__ == \"__main__\":\n",
    "    print(\"Starting enhanced DDPM training...\")\n",
    "    losses, fid_scores, fid_epochs = train_ddpm(epochs=50, fid_every=10)\n",
    "    \n",
    "    print(f\"\\nTraining Summary:\")\n",
    "    print(f\"Final loss: {losses[-1]:.4f}\")\n",
    "    if fid_scores:\n",
    "        print(f\"Best FID score: {min(fid_scores):.2f}\")\n",
    "        print(f\"Final FID score: {fid_scores[-1]:.2f}\")"
   ]
  },
  {
   "cell_type": "code",
   "execution_count": 18,
   "id": "3eef6790",
   "metadata": {},
   "outputs": [
    {
     "data": {
      "image/png": "[encoded data removed]",
      "text/plain": [
       "<Figure size 1000x600 with 1 Axes>"
      ]
     },
     "metadata": {},
     "output_type": "display_data"
    }
   ],
   "source": [
    "plt.figure(figsize=(10, 6))\n",
    "plt.plot(fid_epochs, fid_scores, 'b-o', linewidth=2, markersize=6)\n",
    "plt.xlabel('Epoch')\n",
    "plt.ylabel('FID Score')\n",
    "plt.title('FID Score Progress During Training')\n",
    "plt.grid(True, alpha=0.3)\n",
    "plt.tight_layout()\n",
    "\n",
    "loss_plot_path = 'fid_plot.png'\n",
    "plt.savefig(loss_plot_path, dpi=300, bbox_inches='tight')\n",
    "plt.show()\n"
   ]
  }
 ],
 "metadata": {
  "kernelspec": {
   "display_name": "venv",
   "language": "python",
   "name": "python3"
  },
  "language_info": {
   "codemirror_mode": {
    "name": "ipython",
    "version": 3
   },
   "file_extension": ".py",
   "mimetype": "text/x-python",
   "name": "python",
   "nbconvert_exporter": "python",
   "pygments_lexer": "ipython3",
   "version": "3.12.5"
  }
 },
 "nbformat": 4,
 "nbformat_minor": 5
}
